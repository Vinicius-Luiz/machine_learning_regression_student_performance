{
  "nbformat": 4,
  "nbformat_minor": 0,
  "metadata": {
    "colab": {
      "provenance": [],
      "collapsed_sections": [],
      "toc_visible": true
    },
    "kernelspec": {
      "name": "python3",
      "display_name": "Python 3"
    },
    "language_info": {
      "name": "python"
    }
  },
  "cells": [
    {
      "cell_type": "markdown",
      "source": [
        "# Previsão de notas dos alunos\n",
        "Muitos alunos de pós-graduação têm dificuldade em obter boas notas porque não recebem muito apoio nos cursos superiores em comparação com o apoio que os alunos recebem nas escolas. Alguns alunos precisam de muita atenção dos instrutores para que obtenham boas notas, sem isso, o estado emocional do aluno pode ser prejudicial para a sua carreira a longo prazo.\n",
        "\n",
        "**O objetivo desse projeto é, através do aprendizado de máquina, prever as notas dos alunos para que os instrutores possam ajudar os alunos a se prepararem para tópicos em que as notas dos alunos foram previstas baixas.**  \n",
        "\n",
        "\n",
        "\n",
        "https://www.kaggle.com/code/ramontanoeiro/student-performance/notebook"
      ],
      "metadata": {
        "id": "AQLm6cAJpYfD"
      }
    },
    {
      "cell_type": "markdown",
      "source": [
        "# #2 - Tratamento dos dados\n",
        "|                                       | Numéricos serão normalizados                                         | Numéricos não serão normalizados                                         |\n",
        "|---------------------------------------|----------------------------------------------------------------------|--------------------------------------------------------------------------|\n",
        "| **Ignorar multicolinearidade**            | Ignorar multicolinearidade e Numéricos serão normalizados            | Ignorar multicolinearidade e Numéricos não serão normalizados            |\n",
        "| **Remover multicolinearidade alta**       | Remover multicolinearidade alta e Numéricos serão normalizados       | Remover multicolinearidade alta e Numéricos não serão normalizados       |\n",
        "| **Remover multicolinearidade muito alta** | Remover multicolinearidade muito alta e Numéricos serão normalizados | Remover multicolinearidade muito alta e Numéricos não serão normalizados |"
      ],
      "metadata": {
        "id": "xctWOrULotWe"
      }
    },
    {
      "cell_type": "markdown",
      "source": [
        "https://www.analyticsvidhya.com/blog/2016/07/deeper-regression-analysis-assumptions-plots-solutions/?utm_source=blog&utm_medium=one-hot-encoding-vs-label-encoding-using-scikit-learn"
      ],
      "metadata": {
        "id": "g05hpz9UeJd2"
      }
    },
    {
      "cell_type": "markdown",
      "source": [
        "Algoritmos que utilizarão a base de dados com numéricos **não** normalizados\n",
        "- from sklearn.tree import DecisionTreeRegressor\n",
        "- from sklearn.ensemble import RandomForestRegressor\n",
        "- from gboost import XGBRegressor\n",
        "\n",
        "Algoritmos que utilizarão a base de dados com numéricos normalizados\n",
        "- from sklearn.svm import SVR\n",
        "- from sklearn.neural_network import MLPRegressor\n",
        "- from sklearn.neighbors import KNeighborsRegressor\n"
      ],
      "metadata": {
        "id": "JgmbNZoltBoG"
      }
    },
    {
      "cell_type": "code",
      "source": [
        "from google.colab import drive\n",
        "drive.mount('/content/drive')"
      ],
      "metadata": {
        "colab": {
          "base_uri": "https://localhost:8080/"
        },
        "id": "lbzy9-aooxh5",
        "outputId": "945db673-ea94-4609-c768-0ca9009052c2"
      },
      "execution_count": 1,
      "outputs": [
        {
          "output_type": "stream",
          "name": "stdout",
          "text": [
            "Drive already mounted at /content/drive; to attempt to forcibly remount, call drive.mount(\"/content/drive\", force_remount=True).\n"
          ]
        }
      ]
    },
    {
      "cell_type": "code",
      "source": [
        "from sklearn.preprocessing import OneHotEncoder\n",
        "from sklearn.model_selection import train_test_split\n",
        "from sklearn.preprocessing import MinMaxScaler\n",
        "from sklearn.pipeline import Pipeline\n",
        "from sklearn.compose  import ColumnTransformer\n",
        "from statsmodels.stats.outliers_influence import variance_inflation_factor\n",
        "\n",
        "import pandas as pd\n",
        "import numpy as np\n",
        "import math\n",
        "import pickle as pkl\n",
        "path_datasets = '/content/drive/MyDrive/Machine Learning e Data Science com Python/Projeto - Nota dos Alunos/'"
      ],
      "metadata": {
        "id": "g5jqQ2A_o09a"
      },
      "execution_count": 2,
      "outputs": []
    },
    {
      "cell_type": "code",
      "source": [
        "pd.set_option('max_columns', 100)\n",
        "pd.set_option('max_rows', 150)\n",
        "df = pd.read_csv(path_datasets+'student-mat.csv')\n",
        "df"
      ],
      "metadata": {
        "colab": {
          "base_uri": "https://localhost:8080/",
          "height": 488
        },
        "id": "MnnsfxY2o8Fk",
        "outputId": "1dce280e-4211-4869-a749-d7c17a6f9e46"
      },
      "execution_count": 3,
      "outputs": [
        {
          "output_type": "execute_result",
          "data": {
            "text/plain": [
              "    school sex  age address famsize Pstatus  Medu  Fedu      Mjob      Fjob  \\\n",
              "0       GP   F   18       U     GT3       A     4     4   at_home   teacher   \n",
              "1       GP   F   17       U     GT3       T     1     1   at_home     other   \n",
              "2       GP   F   15       U     LE3       T     1     1   at_home     other   \n",
              "3       GP   F   15       U     GT3       T     4     2    health  services   \n",
              "4       GP   F   16       U     GT3       T     3     3     other     other   \n",
              "..     ...  ..  ...     ...     ...     ...   ...   ...       ...       ...   \n",
              "390     MS   M   20       U     LE3       A     2     2  services  services   \n",
              "391     MS   M   17       U     LE3       T     3     1  services  services   \n",
              "392     MS   M   21       R     GT3       T     1     1     other     other   \n",
              "393     MS   M   18       R     LE3       T     3     2  services     other   \n",
              "394     MS   M   19       U     LE3       T     1     1     other   at_home   \n",
              "\n",
              "     reason guardian  traveltime  studytime  failures schoolsup famsup paid  \\\n",
              "0    course   mother           2          2         0       yes     no   no   \n",
              "1    course   father           1          2         0        no    yes   no   \n",
              "2     other   mother           1          2         3       yes     no  yes   \n",
              "3      home   mother           1          3         0        no    yes  yes   \n",
              "4      home   father           1          2         0        no    yes  yes   \n",
              "..      ...      ...         ...        ...       ...       ...    ...  ...   \n",
              "390  course    other           1          2         2        no    yes  yes   \n",
              "391  course   mother           2          1         0        no     no   no   \n",
              "392  course    other           1          1         3        no     no   no   \n",
              "393  course   mother           3          1         0        no     no   no   \n",
              "394  course   father           1          1         0        no     no   no   \n",
              "\n",
              "    activities nursery higher internet romantic  famrel  freetime  goout  \\\n",
              "0           no     yes    yes       no       no       4         3      4   \n",
              "1           no      no    yes      yes       no       5         3      3   \n",
              "2           no     yes    yes      yes       no       4         3      2   \n",
              "3          yes     yes    yes      yes      yes       3         2      2   \n",
              "4           no     yes    yes       no       no       4         3      2   \n",
              "..         ...     ...    ...      ...      ...     ...       ...    ...   \n",
              "390         no     yes    yes       no       no       5         5      4   \n",
              "391         no      no    yes      yes       no       2         4      5   \n",
              "392         no      no    yes       no       no       5         5      3   \n",
              "393         no      no    yes      yes       no       4         4      1   \n",
              "394         no     yes    yes      yes       no       3         2      3   \n",
              "\n",
              "     Dalc  Walc  health  absences  G1  G2  G3  \n",
              "0       1     1       3         6   5   6   6  \n",
              "1       1     1       3         4   5   5   6  \n",
              "2       2     3       3        10   7   8  10  \n",
              "3       1     1       5         2  15  14  15  \n",
              "4       1     2       5         4   6  10  10  \n",
              "..    ...   ...     ...       ...  ..  ..  ..  \n",
              "390     4     5       4        11   9   9   9  \n",
              "391     3     4       2         3  14  16  16  \n",
              "392     3     3       3         3  10   8   7  \n",
              "393     3     4       5         0  11  12  10  \n",
              "394     3     3       5         5   8   9   9  \n",
              "\n",
              "[395 rows x 33 columns]"
            ],
            "text/html": [
              "\n",
              "  <div id=\"df-b01a6268-2fcd-433e-92a3-3636e5f57253\">\n",
              "    <div class=\"colab-df-container\">\n",
              "      <div>\n",
              "<style scoped>\n",
              "    .dataframe tbody tr th:only-of-type {\n",
              "        vertical-align: middle;\n",
              "    }\n",
              "\n",
              "    .dataframe tbody tr th {\n",
              "        vertical-align: top;\n",
              "    }\n",
              "\n",
              "    .dataframe thead th {\n",
              "        text-align: right;\n",
              "    }\n",
              "</style>\n",
              "<table border=\"1\" class=\"dataframe\">\n",
              "  <thead>\n",
              "    <tr style=\"text-align: right;\">\n",
              "      <th></th>\n",
              "      <th>school</th>\n",
              "      <th>sex</th>\n",
              "      <th>age</th>\n",
              "      <th>address</th>\n",
              "      <th>famsize</th>\n",
              "      <th>Pstatus</th>\n",
              "      <th>Medu</th>\n",
              "      <th>Fedu</th>\n",
              "      <th>Mjob</th>\n",
              "      <th>Fjob</th>\n",
              "      <th>reason</th>\n",
              "      <th>guardian</th>\n",
              "      <th>traveltime</th>\n",
              "      <th>studytime</th>\n",
              "      <th>failures</th>\n",
              "      <th>schoolsup</th>\n",
              "      <th>famsup</th>\n",
              "      <th>paid</th>\n",
              "      <th>activities</th>\n",
              "      <th>nursery</th>\n",
              "      <th>higher</th>\n",
              "      <th>internet</th>\n",
              "      <th>romantic</th>\n",
              "      <th>famrel</th>\n",
              "      <th>freetime</th>\n",
              "      <th>goout</th>\n",
              "      <th>Dalc</th>\n",
              "      <th>Walc</th>\n",
              "      <th>health</th>\n",
              "      <th>absences</th>\n",
              "      <th>G1</th>\n",
              "      <th>G2</th>\n",
              "      <th>G3</th>\n",
              "    </tr>\n",
              "  </thead>\n",
              "  <tbody>\n",
              "    <tr>\n",
              "      <th>0</th>\n",
              "      <td>GP</td>\n",
              "      <td>F</td>\n",
              "      <td>18</td>\n",
              "      <td>U</td>\n",
              "      <td>GT3</td>\n",
              "      <td>A</td>\n",
              "      <td>4</td>\n",
              "      <td>4</td>\n",
              "      <td>at_home</td>\n",
              "      <td>teacher</td>\n",
              "      <td>course</td>\n",
              "      <td>mother</td>\n",
              "      <td>2</td>\n",
              "      <td>2</td>\n",
              "      <td>0</td>\n",
              "      <td>yes</td>\n",
              "      <td>no</td>\n",
              "      <td>no</td>\n",
              "      <td>no</td>\n",
              "      <td>yes</td>\n",
              "      <td>yes</td>\n",
              "      <td>no</td>\n",
              "      <td>no</td>\n",
              "      <td>4</td>\n",
              "      <td>3</td>\n",
              "      <td>4</td>\n",
              "      <td>1</td>\n",
              "      <td>1</td>\n",
              "      <td>3</td>\n",
              "      <td>6</td>\n",
              "      <td>5</td>\n",
              "      <td>6</td>\n",
              "      <td>6</td>\n",
              "    </tr>\n",
              "    <tr>\n",
              "      <th>1</th>\n",
              "      <td>GP</td>\n",
              "      <td>F</td>\n",
              "      <td>17</td>\n",
              "      <td>U</td>\n",
              "      <td>GT3</td>\n",
              "      <td>T</td>\n",
              "      <td>1</td>\n",
              "      <td>1</td>\n",
              "      <td>at_home</td>\n",
              "      <td>other</td>\n",
              "      <td>course</td>\n",
              "      <td>father</td>\n",
              "      <td>1</td>\n",
              "      <td>2</td>\n",
              "      <td>0</td>\n",
              "      <td>no</td>\n",
              "      <td>yes</td>\n",
              "      <td>no</td>\n",
              "      <td>no</td>\n",
              "      <td>no</td>\n",
              "      <td>yes</td>\n",
              "      <td>yes</td>\n",
              "      <td>no</td>\n",
              "      <td>5</td>\n",
              "      <td>3</td>\n",
              "      <td>3</td>\n",
              "      <td>1</td>\n",
              "      <td>1</td>\n",
              "      <td>3</td>\n",
              "      <td>4</td>\n",
              "      <td>5</td>\n",
              "      <td>5</td>\n",
              "      <td>6</td>\n",
              "    </tr>\n",
              "    <tr>\n",
              "      <th>2</th>\n",
              "      <td>GP</td>\n",
              "      <td>F</td>\n",
              "      <td>15</td>\n",
              "      <td>U</td>\n",
              "      <td>LE3</td>\n",
              "      <td>T</td>\n",
              "      <td>1</td>\n",
              "      <td>1</td>\n",
              "      <td>at_home</td>\n",
              "      <td>other</td>\n",
              "      <td>other</td>\n",
              "      <td>mother</td>\n",
              "      <td>1</td>\n",
              "      <td>2</td>\n",
              "      <td>3</td>\n",
              "      <td>yes</td>\n",
              "      <td>no</td>\n",
              "      <td>yes</td>\n",
              "      <td>no</td>\n",
              "      <td>yes</td>\n",
              "      <td>yes</td>\n",
              "      <td>yes</td>\n",
              "      <td>no</td>\n",
              "      <td>4</td>\n",
              "      <td>3</td>\n",
              "      <td>2</td>\n",
              "      <td>2</td>\n",
              "      <td>3</td>\n",
              "      <td>3</td>\n",
              "      <td>10</td>\n",
              "      <td>7</td>\n",
              "      <td>8</td>\n",
              "      <td>10</td>\n",
              "    </tr>\n",
              "    <tr>\n",
              "      <th>3</th>\n",
              "      <td>GP</td>\n",
              "      <td>F</td>\n",
              "      <td>15</td>\n",
              "      <td>U</td>\n",
              "      <td>GT3</td>\n",
              "      <td>T</td>\n",
              "      <td>4</td>\n",
              "      <td>2</td>\n",
              "      <td>health</td>\n",
              "      <td>services</td>\n",
              "      <td>home</td>\n",
              "      <td>mother</td>\n",
              "      <td>1</td>\n",
              "      <td>3</td>\n",
              "      <td>0</td>\n",
              "      <td>no</td>\n",
              "      <td>yes</td>\n",
              "      <td>yes</td>\n",
              "      <td>yes</td>\n",
              "      <td>yes</td>\n",
              "      <td>yes</td>\n",
              "      <td>yes</td>\n",
              "      <td>yes</td>\n",
              "      <td>3</td>\n",
              "      <td>2</td>\n",
              "      <td>2</td>\n",
              "      <td>1</td>\n",
              "      <td>1</td>\n",
              "      <td>5</td>\n",
              "      <td>2</td>\n",
              "      <td>15</td>\n",
              "      <td>14</td>\n",
              "      <td>15</td>\n",
              "    </tr>\n",
              "    <tr>\n",
              "      <th>4</th>\n",
              "      <td>GP</td>\n",
              "      <td>F</td>\n",
              "      <td>16</td>\n",
              "      <td>U</td>\n",
              "      <td>GT3</td>\n",
              "      <td>T</td>\n",
              "      <td>3</td>\n",
              "      <td>3</td>\n",
              "      <td>other</td>\n",
              "      <td>other</td>\n",
              "      <td>home</td>\n",
              "      <td>father</td>\n",
              "      <td>1</td>\n",
              "      <td>2</td>\n",
              "      <td>0</td>\n",
              "      <td>no</td>\n",
              "      <td>yes</td>\n",
              "      <td>yes</td>\n",
              "      <td>no</td>\n",
              "      <td>yes</td>\n",
              "      <td>yes</td>\n",
              "      <td>no</td>\n",
              "      <td>no</td>\n",
              "      <td>4</td>\n",
              "      <td>3</td>\n",
              "      <td>2</td>\n",
              "      <td>1</td>\n",
              "      <td>2</td>\n",
              "      <td>5</td>\n",
              "      <td>4</td>\n",
              "      <td>6</td>\n",
              "      <td>10</td>\n",
              "      <td>10</td>\n",
              "    </tr>\n",
              "    <tr>\n",
              "      <th>...</th>\n",
              "      <td>...</td>\n",
              "      <td>...</td>\n",
              "      <td>...</td>\n",
              "      <td>...</td>\n",
              "      <td>...</td>\n",
              "      <td>...</td>\n",
              "      <td>...</td>\n",
              "      <td>...</td>\n",
              "      <td>...</td>\n",
              "      <td>...</td>\n",
              "      <td>...</td>\n",
              "      <td>...</td>\n",
              "      <td>...</td>\n",
              "      <td>...</td>\n",
              "      <td>...</td>\n",
              "      <td>...</td>\n",
              "      <td>...</td>\n",
              "      <td>...</td>\n",
              "      <td>...</td>\n",
              "      <td>...</td>\n",
              "      <td>...</td>\n",
              "      <td>...</td>\n",
              "      <td>...</td>\n",
              "      <td>...</td>\n",
              "      <td>...</td>\n",
              "      <td>...</td>\n",
              "      <td>...</td>\n",
              "      <td>...</td>\n",
              "      <td>...</td>\n",
              "      <td>...</td>\n",
              "      <td>...</td>\n",
              "      <td>...</td>\n",
              "      <td>...</td>\n",
              "    </tr>\n",
              "    <tr>\n",
              "      <th>390</th>\n",
              "      <td>MS</td>\n",
              "      <td>M</td>\n",
              "      <td>20</td>\n",
              "      <td>U</td>\n",
              "      <td>LE3</td>\n",
              "      <td>A</td>\n",
              "      <td>2</td>\n",
              "      <td>2</td>\n",
              "      <td>services</td>\n",
              "      <td>services</td>\n",
              "      <td>course</td>\n",
              "      <td>other</td>\n",
              "      <td>1</td>\n",
              "      <td>2</td>\n",
              "      <td>2</td>\n",
              "      <td>no</td>\n",
              "      <td>yes</td>\n",
              "      <td>yes</td>\n",
              "      <td>no</td>\n",
              "      <td>yes</td>\n",
              "      <td>yes</td>\n",
              "      <td>no</td>\n",
              "      <td>no</td>\n",
              "      <td>5</td>\n",
              "      <td>5</td>\n",
              "      <td>4</td>\n",
              "      <td>4</td>\n",
              "      <td>5</td>\n",
              "      <td>4</td>\n",
              "      <td>11</td>\n",
              "      <td>9</td>\n",
              "      <td>9</td>\n",
              "      <td>9</td>\n",
              "    </tr>\n",
              "    <tr>\n",
              "      <th>391</th>\n",
              "      <td>MS</td>\n",
              "      <td>M</td>\n",
              "      <td>17</td>\n",
              "      <td>U</td>\n",
              "      <td>LE3</td>\n",
              "      <td>T</td>\n",
              "      <td>3</td>\n",
              "      <td>1</td>\n",
              "      <td>services</td>\n",
              "      <td>services</td>\n",
              "      <td>course</td>\n",
              "      <td>mother</td>\n",
              "      <td>2</td>\n",
              "      <td>1</td>\n",
              "      <td>0</td>\n",
              "      <td>no</td>\n",
              "      <td>no</td>\n",
              "      <td>no</td>\n",
              "      <td>no</td>\n",
              "      <td>no</td>\n",
              "      <td>yes</td>\n",
              "      <td>yes</td>\n",
              "      <td>no</td>\n",
              "      <td>2</td>\n",
              "      <td>4</td>\n",
              "      <td>5</td>\n",
              "      <td>3</td>\n",
              "      <td>4</td>\n",
              "      <td>2</td>\n",
              "      <td>3</td>\n",
              "      <td>14</td>\n",
              "      <td>16</td>\n",
              "      <td>16</td>\n",
              "    </tr>\n",
              "    <tr>\n",
              "      <th>392</th>\n",
              "      <td>MS</td>\n",
              "      <td>M</td>\n",
              "      <td>21</td>\n",
              "      <td>R</td>\n",
              "      <td>GT3</td>\n",
              "      <td>T</td>\n",
              "      <td>1</td>\n",
              "      <td>1</td>\n",
              "      <td>other</td>\n",
              "      <td>other</td>\n",
              "      <td>course</td>\n",
              "      <td>other</td>\n",
              "      <td>1</td>\n",
              "      <td>1</td>\n",
              "      <td>3</td>\n",
              "      <td>no</td>\n",
              "      <td>no</td>\n",
              "      <td>no</td>\n",
              "      <td>no</td>\n",
              "      <td>no</td>\n",
              "      <td>yes</td>\n",
              "      <td>no</td>\n",
              "      <td>no</td>\n",
              "      <td>5</td>\n",
              "      <td>5</td>\n",
              "      <td>3</td>\n",
              "      <td>3</td>\n",
              "      <td>3</td>\n",
              "      <td>3</td>\n",
              "      <td>3</td>\n",
              "      <td>10</td>\n",
              "      <td>8</td>\n",
              "      <td>7</td>\n",
              "    </tr>\n",
              "    <tr>\n",
              "      <th>393</th>\n",
              "      <td>MS</td>\n",
              "      <td>M</td>\n",
              "      <td>18</td>\n",
              "      <td>R</td>\n",
              "      <td>LE3</td>\n",
              "      <td>T</td>\n",
              "      <td>3</td>\n",
              "      <td>2</td>\n",
              "      <td>services</td>\n",
              "      <td>other</td>\n",
              "      <td>course</td>\n",
              "      <td>mother</td>\n",
              "      <td>3</td>\n",
              "      <td>1</td>\n",
              "      <td>0</td>\n",
              "      <td>no</td>\n",
              "      <td>no</td>\n",
              "      <td>no</td>\n",
              "      <td>no</td>\n",
              "      <td>no</td>\n",
              "      <td>yes</td>\n",
              "      <td>yes</td>\n",
              "      <td>no</td>\n",
              "      <td>4</td>\n",
              "      <td>4</td>\n",
              "      <td>1</td>\n",
              "      <td>3</td>\n",
              "      <td>4</td>\n",
              "      <td>5</td>\n",
              "      <td>0</td>\n",
              "      <td>11</td>\n",
              "      <td>12</td>\n",
              "      <td>10</td>\n",
              "    </tr>\n",
              "    <tr>\n",
              "      <th>394</th>\n",
              "      <td>MS</td>\n",
              "      <td>M</td>\n",
              "      <td>19</td>\n",
              "      <td>U</td>\n",
              "      <td>LE3</td>\n",
              "      <td>T</td>\n",
              "      <td>1</td>\n",
              "      <td>1</td>\n",
              "      <td>other</td>\n",
              "      <td>at_home</td>\n",
              "      <td>course</td>\n",
              "      <td>father</td>\n",
              "      <td>1</td>\n",
              "      <td>1</td>\n",
              "      <td>0</td>\n",
              "      <td>no</td>\n",
              "      <td>no</td>\n",
              "      <td>no</td>\n",
              "      <td>no</td>\n",
              "      <td>yes</td>\n",
              "      <td>yes</td>\n",
              "      <td>yes</td>\n",
              "      <td>no</td>\n",
              "      <td>3</td>\n",
              "      <td>2</td>\n",
              "      <td>3</td>\n",
              "      <td>3</td>\n",
              "      <td>3</td>\n",
              "      <td>5</td>\n",
              "      <td>5</td>\n",
              "      <td>8</td>\n",
              "      <td>9</td>\n",
              "      <td>9</td>\n",
              "    </tr>\n",
              "  </tbody>\n",
              "</table>\n",
              "<p>395 rows × 33 columns</p>\n",
              "</div>\n",
              "      <button class=\"colab-df-convert\" onclick=\"convertToInteractive('df-b01a6268-2fcd-433e-92a3-3636e5f57253')\"\n",
              "              title=\"Convert this dataframe to an interactive table.\"\n",
              "              style=\"display:none;\">\n",
              "        \n",
              "  <svg xmlns=\"http://www.w3.org/2000/svg\" height=\"24px\"viewBox=\"0 0 24 24\"\n",
              "       width=\"24px\">\n",
              "    <path d=\"M0 0h24v24H0V0z\" fill=\"none\"/>\n",
              "    <path d=\"M18.56 5.44l.94 2.06.94-2.06 2.06-.94-2.06-.94-.94-2.06-.94 2.06-2.06.94zm-11 1L8.5 8.5l.94-2.06 2.06-.94-2.06-.94L8.5 2.5l-.94 2.06-2.06.94zm10 10l.94 2.06.94-2.06 2.06-.94-2.06-.94-.94-2.06-.94 2.06-2.06.94z\"/><path d=\"M17.41 7.96l-1.37-1.37c-.4-.4-.92-.59-1.43-.59-.52 0-1.04.2-1.43.59L10.3 9.45l-7.72 7.72c-.78.78-.78 2.05 0 2.83L4 21.41c.39.39.9.59 1.41.59.51 0 1.02-.2 1.41-.59l7.78-7.78 2.81-2.81c.8-.78.8-2.07 0-2.86zM5.41 20L4 18.59l7.72-7.72 1.47 1.35L5.41 20z\"/>\n",
              "  </svg>\n",
              "      </button>\n",
              "      \n",
              "  <style>\n",
              "    .colab-df-container {\n",
              "      display:flex;\n",
              "      flex-wrap:wrap;\n",
              "      gap: 12px;\n",
              "    }\n",
              "\n",
              "    .colab-df-convert {\n",
              "      background-color: #E8F0FE;\n",
              "      border: none;\n",
              "      border-radius: 50%;\n",
              "      cursor: pointer;\n",
              "      display: none;\n",
              "      fill: #1967D2;\n",
              "      height: 32px;\n",
              "      padding: 0 0 0 0;\n",
              "      width: 32px;\n",
              "    }\n",
              "\n",
              "    .colab-df-convert:hover {\n",
              "      background-color: #E2EBFA;\n",
              "      box-shadow: 0px 1px 2px rgba(60, 64, 67, 0.3), 0px 1px 3px 1px rgba(60, 64, 67, 0.15);\n",
              "      fill: #174EA6;\n",
              "    }\n",
              "\n",
              "    [theme=dark] .colab-df-convert {\n",
              "      background-color: #3B4455;\n",
              "      fill: #D2E3FC;\n",
              "    }\n",
              "\n",
              "    [theme=dark] .colab-df-convert:hover {\n",
              "      background-color: #434B5C;\n",
              "      box-shadow: 0px 1px 3px 1px rgba(0, 0, 0, 0.15);\n",
              "      filter: drop-shadow(0px 1px 2px rgba(0, 0, 0, 0.3));\n",
              "      fill: #FFFFFF;\n",
              "    }\n",
              "  </style>\n",
              "\n",
              "      <script>\n",
              "        const buttonEl =\n",
              "          document.querySelector('#df-b01a6268-2fcd-433e-92a3-3636e5f57253 button.colab-df-convert');\n",
              "        buttonEl.style.display =\n",
              "          google.colab.kernel.accessAllowed ? 'block' : 'none';\n",
              "\n",
              "        async function convertToInteractive(key) {\n",
              "          const element = document.querySelector('#df-b01a6268-2fcd-433e-92a3-3636e5f57253');\n",
              "          const dataTable =\n",
              "            await google.colab.kernel.invokeFunction('convertToInteractive',\n",
              "                                                     [key], {});\n",
              "          if (!dataTable) return;\n",
              "\n",
              "          const docLinkHtml = 'Like what you see? Visit the ' +\n",
              "            '<a target=\"_blank\" href=https://colab.research.google.com/notebooks/data_table.ipynb>data table notebook</a>'\n",
              "            + ' to learn more about interactive tables.';\n",
              "          element.innerHTML = '';\n",
              "          dataTable['output_type'] = 'display_data';\n",
              "          await google.colab.output.renderOutput(dataTable, element);\n",
              "          const docLink = document.createElement('div');\n",
              "          docLink.innerHTML = docLinkHtml;\n",
              "          element.appendChild(docLink);\n",
              "        }\n",
              "      </script>\n",
              "    </div>\n",
              "  </div>\n",
              "  "
            ]
          },
          "metadata": {},
          "execution_count": 3
        }
      ]
    },
    {
      "cell_type": "markdown",
      "source": [
        "## Separando features do target"
      ],
      "metadata": {
        "id": "ytcQDUE44HKx"
      }
    },
    {
      "cell_type": "code",
      "source": [
        "X, y = df.iloc[:, 0:32], df.iloc[:, 32]\n",
        "X.shape, y.shape"
      ],
      "metadata": {
        "colab": {
          "base_uri": "https://localhost:8080/"
        },
        "id": "jLZExjcG4LBI",
        "outputId": "249f4e04-aa43-4d41-b1c5-3f21b38e15e1"
      },
      "execution_count": 4,
      "outputs": [
        {
          "output_type": "execute_result",
          "data": {
            "text/plain": [
              "((395, 32), (395,))"
            ]
          },
          "metadata": {},
          "execution_count": 4
        }
      ]
    },
    {
      "cell_type": "code",
      "source": [
        "features_num = list(X.select_dtypes(include=['int64']).columns)\n",
        "features_cat = list(X.select_dtypes(include=['object']).columns)"
      ],
      "metadata": {
        "id": "ghgfBI2DMAnT"
      },
      "execution_count": 5,
      "outputs": []
    },
    {
      "cell_type": "markdown",
      "source": [
        "## Removendo colunas com multicolinearidade\n",
        "O problema da multicolinearidade é que ela afeta a variância das estimativas dos coeficientes e as torna sensíveis a pequenas mudanças no modelo. Em resumo, ela dificulta a especificação do modelo correto. @universidadedosdados  \n",
        "\n",
        "A análise de multicolinearidade está na sessão #1 - Exploração dos dados"
      ],
      "metadata": {
        "id": "guvCexqc4t8A"
      }
    },
    {
      "cell_type": "code",
      "source": [
        "def remove_multic_alta(df):\n",
        "  cols_remove = ['age', 'famrel', 'G1', 'G2', 'Medu', 'Fedu', 'freetime', 'goout']\n",
        "  features_num_MA = [col for col in features_num if col not in cols_remove]\n",
        "  return df.drop(columns=cols_remove, axis = 1), features_num_MA\n",
        "\n",
        "def remove_multic_muito_alta(df):\n",
        "  cols_remove = ['age', 'famrel', 'G1', 'G2']\n",
        "  features_num_MMA = [col for col in features_num if col not in cols_remove]\n",
        "  return df.drop(columns=cols_remove, axis = 1), features_num_MMA"
      ],
      "metadata": {
        "id": "y0dvr6tI5DBS"
      },
      "execution_count": 6,
      "outputs": []
    },
    {
      "cell_type": "code",
      "source": [
        "X_MA, features_num_MA   = remove_multic_alta(X)\n",
        "X_MMA, features_num_MMA = remove_multic_muito_alta(X)\n",
        "\n",
        "X_MA.shape, X_MMA.shape"
      ],
      "metadata": {
        "colab": {
          "base_uri": "https://localhost:8080/"
        },
        "id": "bAEa3Mx970fa",
        "outputId": "7147b22d-50b9-496f-a4f4-93d2cf8570cb"
      },
      "execution_count": 7,
      "outputs": [
        {
          "output_type": "execute_result",
          "data": {
            "text/plain": [
              "((395, 24), (395, 28))"
            ]
          },
          "metadata": {},
          "execution_count": 7
        }
      ]
    },
    {
      "cell_type": "markdown",
      "source": [
        "## Transformando categóricos com One Hot Encoder"
      ],
      "metadata": {
        "id": "HVdhQshA9uKH"
      }
    },
    {
      "cell_type": "code",
      "source": [
        "Cat_transformer = Pipeline(steps=[('one-hot encoder', OneHotEncoder())])"
      ],
      "metadata": {
        "id": "xf9ZSqpS9yqf"
      },
      "execution_count": 8,
      "outputs": []
    },
    {
      "cell_type": "markdown",
      "source": [
        "## Normalizando numéricos com MinMaxScaler\n",
        "Dado que os dados não estão em uma distribuição normal e, como também, não desejamos eliminar a influência dos outliers, então iremos utilizar o MinMaxScaler"
      ],
      "metadata": {
        "id": "a3ReI3Qb-QNI"
      }
    },
    {
      "cell_type": "code",
      "source": [
        "Num_transformer = Pipeline(steps = [('min-max-scaler',  MinMaxScaler())])"
      ],
      "metadata": {
        "id": "LIkukiYQ-Ud5"
      },
      "execution_count": 9,
      "outputs": []
    },
    {
      "cell_type": "markdown",
      "source": [
        "## Compondo os pré-processadores"
      ],
      "metadata": {
        "id": "5-XmQ5gw-zcU"
      }
    },
    {
      "cell_type": "code",
      "source": [
        "# Base de dados completa & Normalizada\n",
        "Preprocessor = ColumnTransformer(transformers=[\n",
        "    ('num', Num_transformer, features_num),\n",
        "    ('cat', Cat_transformer, features_cat)\n",
        "])"
      ],
      "metadata": {
        "id": "YNEq6dEg-1Rv"
      },
      "execution_count": 10,
      "outputs": []
    },
    {
      "cell_type": "code",
      "source": [
        "# Base de dados sem features com multicolinearidade muito alta & Normalizada\n",
        "Preprocessor_MMA = ColumnTransformer(transformers=[\n",
        "    ('num', Num_transformer, features_num_MMA),\n",
        "    ('cat', Cat_transformer, features_cat)\n",
        "])"
      ],
      "metadata": {
        "id": "V_V7fMAoHWIW"
      },
      "execution_count": 11,
      "outputs": []
    },
    {
      "cell_type": "code",
      "source": [
        "# Base de dados sem features com multicolinearidade alta & Normalizada\n",
        "Preprocessor_MA = ColumnTransformer(transformers=[\n",
        "    ('num', Num_transformer, features_num_MA),\n",
        "    ('cat', Cat_transformer, features_cat)\n",
        "])"
      ],
      "metadata": {
        "id": "yAZXBZnzHV1s"
      },
      "execution_count": 12,
      "outputs": []
    },
    {
      "cell_type": "code",
      "source": [
        "# Base de dados completa & Não Normalizada\n",
        "Preprocessor_NN = ColumnTransformer(transformers=[\n",
        "    ('cat', Cat_transformer, features_cat)\n",
        "])"
      ],
      "metadata": {
        "id": "AzOrKhlKo4c5"
      },
      "execution_count": 13,
      "outputs": []
    },
    {
      "cell_type": "code",
      "source": [
        "# Base de dados sem features com multicolinearidade muito alta & Não Normalizada\n",
        "Preprocessor_MMA_NN = ColumnTransformer(transformers=[\n",
        "    ('cat', Cat_transformer, features_cat)\n",
        "])"
      ],
      "metadata": {
        "id": "7Q9Lo-hOpsYu"
      },
      "execution_count": 14,
      "outputs": []
    },
    {
      "cell_type": "code",
      "source": [
        "# Base de dados sem features com multicolinearidade alta & Não Normalizada\n",
        "Preprocessor_MA_NN = ColumnTransformer(transformers=[\n",
        "    ('cat', Cat_transformer, features_cat)\n",
        "])"
      ],
      "metadata": {
        "id": "_VZbHXfdpkiy"
      },
      "execution_count": 15,
      "outputs": []
    },
    {
      "cell_type": "markdown",
      "source": [
        "## Base de treino e teste"
      ],
      "metadata": {
        "id": "im4XfBfh_d84"
      }
    },
    {
      "cell_type": "code",
      "source": [
        "seed = 14"
      ],
      "metadata": {
        "id": "HFrn44Po_zO6"
      },
      "execution_count": 16,
      "outputs": []
    },
    {
      "cell_type": "code",
      "source": [
        "# Base de dados completa & Normalizada\n",
        "X_train, X_test, y_train, y_test = train_test_split(X, y, test_size = .25, random_state = seed)\n",
        "X_train.shape, y_train.shape, X_test.shape, y_test.shape"
      ],
      "metadata": {
        "colab": {
          "base_uri": "https://localhost:8080/"
        },
        "id": "iAqHIdbc_w-v",
        "outputId": "ec39b92f-a4f4-4441-a9a7-b99c3d3ee2fa"
      },
      "execution_count": 17,
      "outputs": [
        {
          "output_type": "execute_result",
          "data": {
            "text/plain": [
              "((296, 32), (296,), (99, 32), (99,))"
            ]
          },
          "metadata": {},
          "execution_count": 17
        }
      ]
    },
    {
      "cell_type": "code",
      "source": [
        "# Base de dados sem features com multicolinearidade muito alta & Normalizada\n",
        "X_MMA_train, X_MMA_test, y_train, y_test = train_test_split(X_MMA, y, test_size = .25, random_state = seed)\n",
        "X_MMA_train.shape, y_train.shape, X_MMA_test.shape, y_test.shape"
      ],
      "metadata": {
        "colab": {
          "base_uri": "https://localhost:8080/"
        },
        "id": "_98H_JeVAU1w",
        "outputId": "40c99dc6-a287-4ac5-d4ec-aab0f868a3ad"
      },
      "execution_count": 18,
      "outputs": [
        {
          "output_type": "execute_result",
          "data": {
            "text/plain": [
              "((296, 28), (296,), (99, 28), (99,))"
            ]
          },
          "metadata": {},
          "execution_count": 18
        }
      ]
    },
    {
      "cell_type": "code",
      "source": [
        "# Base de dados sem features com multicolinearidade alta & Normalizada\n",
        "X_MA_train, X_MA_test, y_train, y_test = train_test_split(X_MA, y, test_size = .25, random_state = seed)\n",
        "X_MA_train.shape, y_train.shape, X_MA_test.shape, y_test.shape"
      ],
      "metadata": {
        "colab": {
          "base_uri": "https://localhost:8080/"
        },
        "id": "yLbvekLPAASY",
        "outputId": "f066d2c5-d7c4-402a-a03e-3b45c0b31c01"
      },
      "execution_count": 19,
      "outputs": [
        {
          "output_type": "execute_result",
          "data": {
            "text/plain": [
              "((296, 24), (296,), (99, 24), (99,))"
            ]
          },
          "metadata": {},
          "execution_count": 19
        }
      ]
    },
    {
      "cell_type": "code",
      "source": [
        "# Base de dados completa & Não Normalizada\n",
        "X_NN_train, X_NN_test, y_train, y_test = train_test_split(X, y, test_size = .25, random_state = seed)\n",
        "X_NN_train.shape, y_train.shape, X_NN_test.shape, y_test.shape"
      ],
      "metadata": {
        "id": "88n-hCFfp86E",
        "colab": {
          "base_uri": "https://localhost:8080/"
        },
        "outputId": "d6451792-b994-4132-8a9b-093c31eae530"
      },
      "execution_count": 20,
      "outputs": [
        {
          "output_type": "execute_result",
          "data": {
            "text/plain": [
              "((296, 32), (296,), (99, 32), (99,))"
            ]
          },
          "metadata": {},
          "execution_count": 20
        }
      ]
    },
    {
      "cell_type": "code",
      "source": [
        "# Base de dados sem features com multicolinearidade muito alta & Normalizada\n",
        "X_MMA_NN_train, X_MMA_NN_test, y_train, y_test = train_test_split(X_MMA, y, test_size = .25, random_state = seed)\n",
        "X_MMA_NN_train.shape, y_train.shape, X_MMA_NN_test.shape, y_test.shape"
      ],
      "metadata": {
        "id": "sj9glePJrX_g",
        "colab": {
          "base_uri": "https://localhost:8080/"
        },
        "outputId": "25f2e552-0bd9-4cc7-de57-b3328545f6f1"
      },
      "execution_count": 21,
      "outputs": [
        {
          "output_type": "execute_result",
          "data": {
            "text/plain": [
              "((296, 28), (296,), (99, 28), (99,))"
            ]
          },
          "metadata": {},
          "execution_count": 21
        }
      ]
    },
    {
      "cell_type": "code",
      "source": [
        "# Base de dados sem features com multicolinearidade alta & Não Normalizada\n",
        "X_MA_NN_train, X_MA_NN_test, y_train, y_test = train_test_split(X_MA, y, test_size = .25, random_state = seed)\n",
        "X_MA_NN_train.shape, y_train.shape, X_MA_NN_test.shape, y_test.shape"
      ],
      "metadata": {
        "id": "LPMyv7c_qQNr",
        "colab": {
          "base_uri": "https://localhost:8080/"
        },
        "outputId": "6b19c174-e4ea-48af-d56b-05bf6d56ff76"
      },
      "execution_count": 22,
      "outputs": [
        {
          "output_type": "execute_result",
          "data": {
            "text/plain": [
              "((296, 24), (296,), (99, 24), (99,))"
            ]
          },
          "metadata": {},
          "execution_count": 22
        }
      ]
    },
    {
      "cell_type": "code",
      "source": [
        "OneHotColumns = ['school_GP', 'school_MS',\n",
        "                'sex_F', 'sex_M', 'address_R',\n",
        "                'address_U', 'famsize_GT3', 'famsize_LE3',\n",
        "                'Pstatus_A', 'Pstatus_T', 'Mjob_at_home',\n",
        "                'Mjob_health', 'Mjob_other',\n",
        "                'Mjob_services', 'Mjob_teacher', 'Fjob_at_home',\n",
        "                'Fjob_health','Fjob_other', 'Fjob_services',\n",
        "                'Fjob_teacher', 'reason_course','reason_home',\n",
        "                'reason_other', 'reason_reputation',\n",
        "                'guardian_father', 'guardian_mother',\n",
        "                'guardian_other', 'schoolsup_no', 'schoolsup_yes',\n",
        "                'famsup_no', 'famsup_yes', 'paid_no', 'paid_yes',\n",
        "                'activities_no', 'activities_yes', 'nursery_no',\n",
        "                'nursery_yes', 'higher_no', 'higher_yes',\n",
        "                'internet_no', 'internet_yes', 'romantic_no',\n",
        "                'romantic_yes']"
      ],
      "metadata": {
        "id": "HE6Avk9_HhyO"
      },
      "execution_count": 23,
      "outputs": []
    },
    {
      "cell_type": "code",
      "source": [
        "columns_X     = features_num + OneHotColumns\n",
        "columns_X_MA  = features_num_MA + OneHotColumns\n",
        "columns_X_MMA = features_num_MMA + OneHotColumns"
      ],
      "metadata": {
        "id": "gMxVGF5rAqy9"
      },
      "execution_count": 24,
      "outputs": []
    },
    {
      "cell_type": "markdown",
      "source": [
        "### Treinando e transformando base de treino"
      ],
      "metadata": {
        "id": "rdCEYhpD_gIc"
      }
    },
    {
      "cell_type": "code",
      "source": [
        "# Base de dados completa & Normalizada\n",
        "X_train_transformed = Preprocessor.fit_transform(X_train, y_train)\n",
        "X_train_transformed = pd.DataFrame(X_train_transformed, columns = columns_X)\n",
        "X_train_transformed.shape"
      ],
      "metadata": {
        "colab": {
          "base_uri": "https://localhost:8080/"
        },
        "id": "giAWqTNyA6NG",
        "outputId": "848b67c9-9341-4c1d-e1dd-a6991e0c9db3"
      },
      "execution_count": 25,
      "outputs": [
        {
          "output_type": "execute_result",
          "data": {
            "text/plain": [
              "(296, 58)"
            ]
          },
          "metadata": {},
          "execution_count": 25
        }
      ]
    },
    {
      "cell_type": "code",
      "source": [
        "# Base de dados sem features com multicolinearidade muito alta & Normalizada\n",
        "X_MMA_train_transformed = Preprocessor_MMA.fit_transform(X_MMA_train, y_train)\n",
        "X_MMA_train_transformed = pd.DataFrame(X_MMA_train_transformed, columns = columns_X_MMA)\n",
        "X_MMA_train_transformed.shape"
      ],
      "metadata": {
        "colab": {
          "base_uri": "https://localhost:8080/"
        },
        "id": "zocPhSS3DKtx",
        "outputId": "8f3178d4-7a7d-494f-b0c4-4dc24ab3a7fa"
      },
      "execution_count": 26,
      "outputs": [
        {
          "output_type": "execute_result",
          "data": {
            "text/plain": [
              "(296, 54)"
            ]
          },
          "metadata": {},
          "execution_count": 26
        }
      ]
    },
    {
      "cell_type": "code",
      "source": [
        "# Base de dados sem features com multicolinearidade alta & Normalizada\n",
        "X_MA_train_transformed = Preprocessor_MA.fit_transform(X_MA_train, y_train)\n",
        "X_MA_train_transformed = pd.DataFrame(X_MA_train_transformed, columns = columns_X_MA)\n",
        "X_MA_train_transformed.shape"
      ],
      "metadata": {
        "colab": {
          "base_uri": "https://localhost:8080/"
        },
        "id": "yQD9cT-tDKXH",
        "outputId": "35c22d0d-24d3-4db5-e016-4913b06d78bd"
      },
      "execution_count": 27,
      "outputs": [
        {
          "output_type": "execute_result",
          "data": {
            "text/plain": [
              "(296, 50)"
            ]
          },
          "metadata": {},
          "execution_count": 27
        }
      ]
    },
    {
      "cell_type": "code",
      "source": [
        "# Base de dados completa & Não Normalizada\n",
        "X_NN_train_transformed = Preprocessor_NN.fit_transform(X_NN_train, y_train)\n",
        "X_NN_train_transformed = pd.DataFrame(X_NN_train_transformed, columns = OneHotColumns)\n",
        "  ## Concatenando features numéricas sem normalização com categóricas tratadas\n",
        "X_NN_train_transformed = pd.concat([X_NN_train[features_num].reset_index(drop=True), X_NN_train_transformed], axis = 1)\n",
        "X_NN_train_transformed.shape"
      ],
      "metadata": {
        "id": "S34BNl9lr_FJ",
        "colab": {
          "base_uri": "https://localhost:8080/"
        },
        "outputId": "1f577dfe-62c9-4148-b03d-8989e1bd4f40"
      },
      "execution_count": 28,
      "outputs": [
        {
          "output_type": "execute_result",
          "data": {
            "text/plain": [
              "(296, 58)"
            ]
          },
          "metadata": {},
          "execution_count": 28
        }
      ]
    },
    {
      "cell_type": "code",
      "source": [
        "# Base de dados sem features com multicolinearidade muito alta & Normalizada\n",
        "X_MMA_NN_train_transformed = Preprocessor_MMA_NN.fit_transform(X_MMA_NN_train, y_train)\n",
        "X_MMA_NN_train_transformed = pd.DataFrame(X_MMA_NN_train_transformed, columns = OneHotColumns)\n",
        "  ## Concatenando features numéricas sem normalização com categóricas tratadas\n",
        "X_MMA_NN_train_transformed = pd.concat([X_MMA_NN_train[features_num_MMA].reset_index(drop=True), X_MMA_NN_train_transformed], axis = 1)\n",
        "X_MMA_NN_train_transformed.shape"
      ],
      "metadata": {
        "colab": {
          "base_uri": "https://localhost:8080/"
        },
        "id": "v05IdN3Lcj1j",
        "outputId": "4fd80065-bdc7-4755-8434-25731618e11f"
      },
      "execution_count": 29,
      "outputs": [
        {
          "output_type": "execute_result",
          "data": {
            "text/plain": [
              "(296, 54)"
            ]
          },
          "metadata": {},
          "execution_count": 29
        }
      ]
    },
    {
      "cell_type": "code",
      "source": [
        "# Base de dados sem features com multicolinearidade alta & Não Normalizada\n",
        "X_MA_NN_train_transformed = Preprocessor_MA_NN.fit_transform(X_MA_NN_train, y_train)\n",
        "X_MA_NN_train_transformed = pd.DataFrame(X_MA_NN_train_transformed, columns = OneHotColumns)\n",
        "  ## Concatenando features numéricas sem normalização com categóricas tratadas\n",
        "X_MA_NN_train_transformed = pd.concat([X_MA_NN_train[features_num_MA].reset_index(drop=True), X_MA_NN_train_transformed], axis = 1)\n",
        "X_MA_NN_train_transformed.shape"
      ],
      "metadata": {
        "colab": {
          "base_uri": "https://localhost:8080/"
        },
        "id": "lL1vkzPqcTvq",
        "outputId": "ba8f5f77-5a19-475c-8fc8-9b80ab227dd2"
      },
      "execution_count": 30,
      "outputs": [
        {
          "output_type": "execute_result",
          "data": {
            "text/plain": [
              "(296, 50)"
            ]
          },
          "metadata": {},
          "execution_count": 30
        }
      ]
    },
    {
      "cell_type": "markdown",
      "source": [
        "### Treinando e transformando target"
      ],
      "metadata": {
        "id": "Z8uGBRQSK0HN"
      }
    },
    {
      "cell_type": "code",
      "source": [
        "y_scaler = MinMaxScaler()\n",
        "y_train_transformed = y_scaler.fit_transform(y_train.array.reshape(-1, 1))\n",
        "y_train_transformed[0:5]"
      ],
      "metadata": {
        "colab": {
          "base_uri": "https://localhost:8080/"
        },
        "id": "Tu5kOA7jK7Hq",
        "outputId": "660f69c7-96f9-4608-e1a9-d060726c911a"
      },
      "execution_count": 31,
      "outputs": [
        {
          "output_type": "execute_result",
          "data": {
            "text/plain": [
              "array([[0.5 ],\n",
              "       [0.85],\n",
              "       [0.5 ],\n",
              "       [0.75],\n",
              "       [0.9 ]])"
            ]
          },
          "metadata": {},
          "execution_count": 31
        }
      ]
    },
    {
      "cell_type": "markdown",
      "source": [
        "### Tratando Dummy Variable Trap\n",
        "A armadilha Dummy Variable é um cenário em que as variáveis ​​independentes são multicolineares - um cenário em que duas ou mais variáveis ​​são altamente correlacionadas; em termos simples, uma variável pode ser prevista a partir das outras.  \n",
        "\n",
        "Assim, para superar o problema da multicolinearidade, uma das variáveis ​​dummy deve ser eliminada.  \n",
        "\n",
        "Uma das maneiras comuns de verificar a multicolinearidade é o fator de inflação de variância (VIF):  \n",
        "\n",
        "- VIF=1, muito menos multicolinearidade\n",
        "- VIF=5, Multicolinearidade Moderada\n",
        "- VIF>5, Multicolinearidade Extrema (Isto é o que temos que evitar)\n",
        "\n",
        "**fontes:**  \n",
        "*https://www.analyticsvidhya.com/blog/2020/03/one-hot-encoding-vs-label-encoding-using-scikit-learn/*\n",
        "\n",
        "*https://www.algosome.com/articles/dummy-variable-trap-regression.html*"
      ],
      "metadata": {
        "id": "9vrvADeTQUQQ"
      }
    },
    {
      "cell_type": "markdown",
      "source": [
        "Vamos demonstrar o VIF da base de dados original transformada. As variáveis independentes dummies possuem multicolinearidade perfeita, o que prova que temos que remover algumas dessas variáveis."
      ],
      "metadata": {
        "id": "8kGa38RuT9-W"
      }
    },
    {
      "cell_type": "code",
      "source": [
        "X_columns = X_train_transformed.columns"
      ],
      "metadata": {
        "id": "r2YBBIpkSnWZ"
      },
      "execution_count": 32,
      "outputs": []
    },
    {
      "cell_type": "code",
      "source": [
        "vif = pd.DataFrame()\n",
        "vif['feature'] = X_columns\n",
        "vif[\"VIF\"] = [variance_inflation_factor(X_train_transformed[X_columns].values, i) for i in range(len(X_columns))]\n",
        "vif"
      ],
      "metadata": {
        "colab": {
          "base_uri": "https://localhost:8080/",
          "height": 1000
        },
        "id": "19-Cn3U_Tc_e",
        "outputId": "6a0be581-9eed-418e-b1ef-5b9438832860"
      },
      "execution_count": 33,
      "outputs": [
        {
          "output_type": "stream",
          "name": "stderr",
          "text": [
            "/usr/local/lib/python3.7/dist-packages/statsmodels/stats/outliers_influence.py:193: RuntimeWarning: divide by zero encountered in double_scalars\n",
            "  vif = 1. / (1. - r_squared_i)\n"
          ]
        },
        {
          "output_type": "execute_result",
          "data": {
            "text/plain": [
              "              feature       VIF\n",
              "0                 age  1.974428\n",
              "1                Medu  3.089285\n",
              "2                Fedu  2.097746\n",
              "3          traveltime  1.366733\n",
              "4           studytime  1.467127\n",
              "5            failures  1.654673\n",
              "6              famrel  1.165120\n",
              "7            freetime  1.408093\n",
              "8               goout  1.572792\n",
              "9                Dalc  2.050947\n",
              "10               Walc  2.360446\n",
              "11             health  1.240649\n",
              "12           absences  1.340610\n",
              "13                 G1  5.482483\n",
              "14                 G2  5.168458\n",
              "15          school_GP       inf\n",
              "16          school_MS       inf\n",
              "17              sex_F       inf\n",
              "18              sex_M       inf\n",
              "19          address_R       inf\n",
              "20          address_U       inf\n",
              "21        famsize_GT3       inf\n",
              "22        famsize_LE3       inf\n",
              "23          Pstatus_A       inf\n",
              "24          Pstatus_T       inf\n",
              "25       Mjob_at_home       inf\n",
              "26        Mjob_health       inf\n",
              "27         Mjob_other       inf\n",
              "28      Mjob_services       inf\n",
              "29       Mjob_teacher       inf\n",
              "30       Fjob_at_home       inf\n",
              "31        Fjob_health       inf\n",
              "32         Fjob_other       inf\n",
              "33      Fjob_services       inf\n",
              "34       Fjob_teacher       inf\n",
              "35      reason_course       inf\n",
              "36        reason_home       inf\n",
              "37       reason_other       inf\n",
              "38  reason_reputation       inf\n",
              "39    guardian_father       inf\n",
              "40    guardian_mother       inf\n",
              "41     guardian_other       inf\n",
              "42       schoolsup_no       inf\n",
              "43      schoolsup_yes       inf\n",
              "44          famsup_no       inf\n",
              "45         famsup_yes       inf\n",
              "46            paid_no       inf\n",
              "47           paid_yes       inf\n",
              "48      activities_no       inf\n",
              "49     activities_yes       inf\n",
              "50         nursery_no       inf\n",
              "51        nursery_yes       inf\n",
              "52          higher_no       inf\n",
              "53         higher_yes       inf\n",
              "54        internet_no       inf\n",
              "55       internet_yes       inf\n",
              "56        romantic_no       inf\n",
              "57       romantic_yes       inf"
            ],
            "text/html": [
              "\n",
              "  <div id=\"df-5b4c8d97-02bb-4587-b055-dc7c80ff5653\">\n",
              "    <div class=\"colab-df-container\">\n",
              "      <div>\n",
              "<style scoped>\n",
              "    .dataframe tbody tr th:only-of-type {\n",
              "        vertical-align: middle;\n",
              "    }\n",
              "\n",
              "    .dataframe tbody tr th {\n",
              "        vertical-align: top;\n",
              "    }\n",
              "\n",
              "    .dataframe thead th {\n",
              "        text-align: right;\n",
              "    }\n",
              "</style>\n",
              "<table border=\"1\" class=\"dataframe\">\n",
              "  <thead>\n",
              "    <tr style=\"text-align: right;\">\n",
              "      <th></th>\n",
              "      <th>feature</th>\n",
              "      <th>VIF</th>\n",
              "    </tr>\n",
              "  </thead>\n",
              "  <tbody>\n",
              "    <tr>\n",
              "      <th>0</th>\n",
              "      <td>age</td>\n",
              "      <td>1.974428</td>\n",
              "    </tr>\n",
              "    <tr>\n",
              "      <th>1</th>\n",
              "      <td>Medu</td>\n",
              "      <td>3.089285</td>\n",
              "    </tr>\n",
              "    <tr>\n",
              "      <th>2</th>\n",
              "      <td>Fedu</td>\n",
              "      <td>2.097746</td>\n",
              "    </tr>\n",
              "    <tr>\n",
              "      <th>3</th>\n",
              "      <td>traveltime</td>\n",
              "      <td>1.366733</td>\n",
              "    </tr>\n",
              "    <tr>\n",
              "      <th>4</th>\n",
              "      <td>studytime</td>\n",
              "      <td>1.467127</td>\n",
              "    </tr>\n",
              "    <tr>\n",
              "      <th>5</th>\n",
              "      <td>failures</td>\n",
              "      <td>1.654673</td>\n",
              "    </tr>\n",
              "    <tr>\n",
              "      <th>6</th>\n",
              "      <td>famrel</td>\n",
              "      <td>1.165120</td>\n",
              "    </tr>\n",
              "    <tr>\n",
              "      <th>7</th>\n",
              "      <td>freetime</td>\n",
              "      <td>1.408093</td>\n",
              "    </tr>\n",
              "    <tr>\n",
              "      <th>8</th>\n",
              "      <td>goout</td>\n",
              "      <td>1.572792</td>\n",
              "    </tr>\n",
              "    <tr>\n",
              "      <th>9</th>\n",
              "      <td>Dalc</td>\n",
              "      <td>2.050947</td>\n",
              "    </tr>\n",
              "    <tr>\n",
              "      <th>10</th>\n",
              "      <td>Walc</td>\n",
              "      <td>2.360446</td>\n",
              "    </tr>\n",
              "    <tr>\n",
              "      <th>11</th>\n",
              "      <td>health</td>\n",
              "      <td>1.240649</td>\n",
              "    </tr>\n",
              "    <tr>\n",
              "      <th>12</th>\n",
              "      <td>absences</td>\n",
              "      <td>1.340610</td>\n",
              "    </tr>\n",
              "    <tr>\n",
              "      <th>13</th>\n",
              "      <td>G1</td>\n",
              "      <td>5.482483</td>\n",
              "    </tr>\n",
              "    <tr>\n",
              "      <th>14</th>\n",
              "      <td>G2</td>\n",
              "      <td>5.168458</td>\n",
              "    </tr>\n",
              "    <tr>\n",
              "      <th>15</th>\n",
              "      <td>school_GP</td>\n",
              "      <td>inf</td>\n",
              "    </tr>\n",
              "    <tr>\n",
              "      <th>16</th>\n",
              "      <td>school_MS</td>\n",
              "      <td>inf</td>\n",
              "    </tr>\n",
              "    <tr>\n",
              "      <th>17</th>\n",
              "      <td>sex_F</td>\n",
              "      <td>inf</td>\n",
              "    </tr>\n",
              "    <tr>\n",
              "      <th>18</th>\n",
              "      <td>sex_M</td>\n",
              "      <td>inf</td>\n",
              "    </tr>\n",
              "    <tr>\n",
              "      <th>19</th>\n",
              "      <td>address_R</td>\n",
              "      <td>inf</td>\n",
              "    </tr>\n",
              "    <tr>\n",
              "      <th>20</th>\n",
              "      <td>address_U</td>\n",
              "      <td>inf</td>\n",
              "    </tr>\n",
              "    <tr>\n",
              "      <th>21</th>\n",
              "      <td>famsize_GT3</td>\n",
              "      <td>inf</td>\n",
              "    </tr>\n",
              "    <tr>\n",
              "      <th>22</th>\n",
              "      <td>famsize_LE3</td>\n",
              "      <td>inf</td>\n",
              "    </tr>\n",
              "    <tr>\n",
              "      <th>23</th>\n",
              "      <td>Pstatus_A</td>\n",
              "      <td>inf</td>\n",
              "    </tr>\n",
              "    <tr>\n",
              "      <th>24</th>\n",
              "      <td>Pstatus_T</td>\n",
              "      <td>inf</td>\n",
              "    </tr>\n",
              "    <tr>\n",
              "      <th>25</th>\n",
              "      <td>Mjob_at_home</td>\n",
              "      <td>inf</td>\n",
              "    </tr>\n",
              "    <tr>\n",
              "      <th>26</th>\n",
              "      <td>Mjob_health</td>\n",
              "      <td>inf</td>\n",
              "    </tr>\n",
              "    <tr>\n",
              "      <th>27</th>\n",
              "      <td>Mjob_other</td>\n",
              "      <td>inf</td>\n",
              "    </tr>\n",
              "    <tr>\n",
              "      <th>28</th>\n",
              "      <td>Mjob_services</td>\n",
              "      <td>inf</td>\n",
              "    </tr>\n",
              "    <tr>\n",
              "      <th>29</th>\n",
              "      <td>Mjob_teacher</td>\n",
              "      <td>inf</td>\n",
              "    </tr>\n",
              "    <tr>\n",
              "      <th>30</th>\n",
              "      <td>Fjob_at_home</td>\n",
              "      <td>inf</td>\n",
              "    </tr>\n",
              "    <tr>\n",
              "      <th>31</th>\n",
              "      <td>Fjob_health</td>\n",
              "      <td>inf</td>\n",
              "    </tr>\n",
              "    <tr>\n",
              "      <th>32</th>\n",
              "      <td>Fjob_other</td>\n",
              "      <td>inf</td>\n",
              "    </tr>\n",
              "    <tr>\n",
              "      <th>33</th>\n",
              "      <td>Fjob_services</td>\n",
              "      <td>inf</td>\n",
              "    </tr>\n",
              "    <tr>\n",
              "      <th>34</th>\n",
              "      <td>Fjob_teacher</td>\n",
              "      <td>inf</td>\n",
              "    </tr>\n",
              "    <tr>\n",
              "      <th>35</th>\n",
              "      <td>reason_course</td>\n",
              "      <td>inf</td>\n",
              "    </tr>\n",
              "    <tr>\n",
              "      <th>36</th>\n",
              "      <td>reason_home</td>\n",
              "      <td>inf</td>\n",
              "    </tr>\n",
              "    <tr>\n",
              "      <th>37</th>\n",
              "      <td>reason_other</td>\n",
              "      <td>inf</td>\n",
              "    </tr>\n",
              "    <tr>\n",
              "      <th>38</th>\n",
              "      <td>reason_reputation</td>\n",
              "      <td>inf</td>\n",
              "    </tr>\n",
              "    <tr>\n",
              "      <th>39</th>\n",
              "      <td>guardian_father</td>\n",
              "      <td>inf</td>\n",
              "    </tr>\n",
              "    <tr>\n",
              "      <th>40</th>\n",
              "      <td>guardian_mother</td>\n",
              "      <td>inf</td>\n",
              "    </tr>\n",
              "    <tr>\n",
              "      <th>41</th>\n",
              "      <td>guardian_other</td>\n",
              "      <td>inf</td>\n",
              "    </tr>\n",
              "    <tr>\n",
              "      <th>42</th>\n",
              "      <td>schoolsup_no</td>\n",
              "      <td>inf</td>\n",
              "    </tr>\n",
              "    <tr>\n",
              "      <th>43</th>\n",
              "      <td>schoolsup_yes</td>\n",
              "      <td>inf</td>\n",
              "    </tr>\n",
              "    <tr>\n",
              "      <th>44</th>\n",
              "      <td>famsup_no</td>\n",
              "      <td>inf</td>\n",
              "    </tr>\n",
              "    <tr>\n",
              "      <th>45</th>\n",
              "      <td>famsup_yes</td>\n",
              "      <td>inf</td>\n",
              "    </tr>\n",
              "    <tr>\n",
              "      <th>46</th>\n",
              "      <td>paid_no</td>\n",
              "      <td>inf</td>\n",
              "    </tr>\n",
              "    <tr>\n",
              "      <th>47</th>\n",
              "      <td>paid_yes</td>\n",
              "      <td>inf</td>\n",
              "    </tr>\n",
              "    <tr>\n",
              "      <th>48</th>\n",
              "      <td>activities_no</td>\n",
              "      <td>inf</td>\n",
              "    </tr>\n",
              "    <tr>\n",
              "      <th>49</th>\n",
              "      <td>activities_yes</td>\n",
              "      <td>inf</td>\n",
              "    </tr>\n",
              "    <tr>\n",
              "      <th>50</th>\n",
              "      <td>nursery_no</td>\n",
              "      <td>inf</td>\n",
              "    </tr>\n",
              "    <tr>\n",
              "      <th>51</th>\n",
              "      <td>nursery_yes</td>\n",
              "      <td>inf</td>\n",
              "    </tr>\n",
              "    <tr>\n",
              "      <th>52</th>\n",
              "      <td>higher_no</td>\n",
              "      <td>inf</td>\n",
              "    </tr>\n",
              "    <tr>\n",
              "      <th>53</th>\n",
              "      <td>higher_yes</td>\n",
              "      <td>inf</td>\n",
              "    </tr>\n",
              "    <tr>\n",
              "      <th>54</th>\n",
              "      <td>internet_no</td>\n",
              "      <td>inf</td>\n",
              "    </tr>\n",
              "    <tr>\n",
              "      <th>55</th>\n",
              "      <td>internet_yes</td>\n",
              "      <td>inf</td>\n",
              "    </tr>\n",
              "    <tr>\n",
              "      <th>56</th>\n",
              "      <td>romantic_no</td>\n",
              "      <td>inf</td>\n",
              "    </tr>\n",
              "    <tr>\n",
              "      <th>57</th>\n",
              "      <td>romantic_yes</td>\n",
              "      <td>inf</td>\n",
              "    </tr>\n",
              "  </tbody>\n",
              "</table>\n",
              "</div>\n",
              "      <button class=\"colab-df-convert\" onclick=\"convertToInteractive('df-5b4c8d97-02bb-4587-b055-dc7c80ff5653')\"\n",
              "              title=\"Convert this dataframe to an interactive table.\"\n",
              "              style=\"display:none;\">\n",
              "        \n",
              "  <svg xmlns=\"http://www.w3.org/2000/svg\" height=\"24px\"viewBox=\"0 0 24 24\"\n",
              "       width=\"24px\">\n",
              "    <path d=\"M0 0h24v24H0V0z\" fill=\"none\"/>\n",
              "    <path d=\"M18.56 5.44l.94 2.06.94-2.06 2.06-.94-2.06-.94-.94-2.06-.94 2.06-2.06.94zm-11 1L8.5 8.5l.94-2.06 2.06-.94-2.06-.94L8.5 2.5l-.94 2.06-2.06.94zm10 10l.94 2.06.94-2.06 2.06-.94-2.06-.94-.94-2.06-.94 2.06-2.06.94z\"/><path d=\"M17.41 7.96l-1.37-1.37c-.4-.4-.92-.59-1.43-.59-.52 0-1.04.2-1.43.59L10.3 9.45l-7.72 7.72c-.78.78-.78 2.05 0 2.83L4 21.41c.39.39.9.59 1.41.59.51 0 1.02-.2 1.41-.59l7.78-7.78 2.81-2.81c.8-.78.8-2.07 0-2.86zM5.41 20L4 18.59l7.72-7.72 1.47 1.35L5.41 20z\"/>\n",
              "  </svg>\n",
              "      </button>\n",
              "      \n",
              "  <style>\n",
              "    .colab-df-container {\n",
              "      display:flex;\n",
              "      flex-wrap:wrap;\n",
              "      gap: 12px;\n",
              "    }\n",
              "\n",
              "    .colab-df-convert {\n",
              "      background-color: #E8F0FE;\n",
              "      border: none;\n",
              "      border-radius: 50%;\n",
              "      cursor: pointer;\n",
              "      display: none;\n",
              "      fill: #1967D2;\n",
              "      height: 32px;\n",
              "      padding: 0 0 0 0;\n",
              "      width: 32px;\n",
              "    }\n",
              "\n",
              "    .colab-df-convert:hover {\n",
              "      background-color: #E2EBFA;\n",
              "      box-shadow: 0px 1px 2px rgba(60, 64, 67, 0.3), 0px 1px 3px 1px rgba(60, 64, 67, 0.15);\n",
              "      fill: #174EA6;\n",
              "    }\n",
              "\n",
              "    [theme=dark] .colab-df-convert {\n",
              "      background-color: #3B4455;\n",
              "      fill: #D2E3FC;\n",
              "    }\n",
              "\n",
              "    [theme=dark] .colab-df-convert:hover {\n",
              "      background-color: #434B5C;\n",
              "      box-shadow: 0px 1px 3px 1px rgba(0, 0, 0, 0.15);\n",
              "      filter: drop-shadow(0px 1px 2px rgba(0, 0, 0, 0.3));\n",
              "      fill: #FFFFFF;\n",
              "    }\n",
              "  </style>\n",
              "\n",
              "      <script>\n",
              "        const buttonEl =\n",
              "          document.querySelector('#df-5b4c8d97-02bb-4587-b055-dc7c80ff5653 button.colab-df-convert');\n",
              "        buttonEl.style.display =\n",
              "          google.colab.kernel.accessAllowed ? 'block' : 'none';\n",
              "\n",
              "        async function convertToInteractive(key) {\n",
              "          const element = document.querySelector('#df-5b4c8d97-02bb-4587-b055-dc7c80ff5653');\n",
              "          const dataTable =\n",
              "            await google.colab.kernel.invokeFunction('convertToInteractive',\n",
              "                                                     [key], {});\n",
              "          if (!dataTable) return;\n",
              "\n",
              "          const docLinkHtml = 'Like what you see? Visit the ' +\n",
              "            '<a target=\"_blank\" href=https://colab.research.google.com/notebooks/data_table.ipynb>data table notebook</a>'\n",
              "            + ' to learn more about interactive tables.';\n",
              "          element.innerHTML = '';\n",
              "          dataTable['output_type'] = 'display_data';\n",
              "          await google.colab.output.renderOutput(dataTable, element);\n",
              "          const docLink = document.createElement('div');\n",
              "          docLink.innerHTML = docLinkHtml;\n",
              "          element.appendChild(docLink);\n",
              "        }\n",
              "      </script>\n",
              "    </div>\n",
              "  </div>\n",
              "  "
            ]
          },
          "metadata": {},
          "execution_count": 33
        }
      ]
    },
    {
      "cell_type": "code",
      "source": [
        "OneHotColumns_include = []\n",
        "OneHotColumns_exclude = []\n",
        "\n",
        "for c in OneHotColumns:\n",
        "  try:\n",
        "    c1, c2 = c.split('_')\n",
        "  except:\n",
        "    c1, c2, c3 = c.split('_')\n",
        "    c2 = f'{c2}_{c3}'\n",
        "\n",
        "  if 'other' in c2:\n",
        "    OneHotColumns_exclude.append(c)\n",
        "  elif c1 not in OneHotColumns_include:\n",
        "    OneHotColumns_include.append(c1)\n",
        "  else:\n",
        "    OneHotColumns_exclude.append(c)\n",
        "OneHotColumns_exclude"
      ],
      "metadata": {
        "colab": {
          "base_uri": "https://localhost:8080/"
        },
        "id": "KZ2ER1sjVaxK",
        "outputId": "6e1262e8-3aa6-41ea-a856-2ce0bf2c04ff"
      },
      "execution_count": 34,
      "outputs": [
        {
          "output_type": "execute_result",
          "data": {
            "text/plain": [
              "['school_MS',\n",
              " 'sex_M',\n",
              " 'address_U',\n",
              " 'famsize_LE3',\n",
              " 'Pstatus_T',\n",
              " 'Mjob_health',\n",
              " 'Mjob_other',\n",
              " 'Mjob_services',\n",
              " 'Mjob_teacher',\n",
              " 'Fjob_health',\n",
              " 'Fjob_other',\n",
              " 'Fjob_services',\n",
              " 'Fjob_teacher',\n",
              " 'reason_home',\n",
              " 'reason_other',\n",
              " 'reason_reputation',\n",
              " 'guardian_mother',\n",
              " 'guardian_other',\n",
              " 'schoolsup_yes',\n",
              " 'famsup_yes',\n",
              " 'paid_yes',\n",
              " 'activities_yes',\n",
              " 'nursery_yes',\n",
              " 'higher_yes',\n",
              " 'internet_yes',\n",
              " 'romantic_yes']"
            ]
          },
          "metadata": {},
          "execution_count": 34
        }
      ]
    },
    {
      "cell_type": "code",
      "source": [
        "def drop_columns(df, columns_list):\n",
        "  return df.drop(columns=columns_list, axis = 1)"
      ],
      "metadata": {
        "id": "EO-6dWFyb_ll"
      },
      "execution_count": 35,
      "outputs": []
    },
    {
      "cell_type": "code",
      "source": [
        "X_train_transformed        = drop_columns(X_train_transformed, OneHotColumns_exclude)\n",
        "X_MA_train_transformed     = drop_columns(X_MA_train_transformed, OneHotColumns_exclude)\n",
        "X_MMA_train_transformed    = drop_columns(X_MMA_train_transformed, OneHotColumns_exclude)\n",
        "X_NN_train_transformed     = drop_columns(X_NN_train_transformed, OneHotColumns_exclude)\n",
        "X_MA_NN_train_transformed  = drop_columns(X_MA_NN_train_transformed, OneHotColumns_exclude)\n",
        "X_MMA_NN_train_transformed = drop_columns(X_MMA_NN_train_transformed, OneHotColumns_exclude)"
      ],
      "metadata": {
        "id": "ZgjHT8XzbuCQ"
      },
      "execution_count": 36,
      "outputs": []
    },
    {
      "cell_type": "markdown",
      "source": [
        "### Transformando base de teste"
      ],
      "metadata": {
        "id": "txqS7Ttw_iE8"
      }
    },
    {
      "cell_type": "code",
      "source": [
        "# Base de dados completa & Normalizada\n",
        "X_test_transformed = Preprocessor.transform(X_test)\n",
        "X_test_transformed = pd.DataFrame(X_test_transformed, columns = columns_X)\n",
        "X_test_transformed.shape"
      ],
      "metadata": {
        "colab": {
          "base_uri": "https://localhost:8080/"
        },
        "outputId": "3c270f95-07bc-4955-b4dc-693ce0a57a24",
        "id": "CLUtQnMaIwPU"
      },
      "execution_count": 37,
      "outputs": [
        {
          "output_type": "execute_result",
          "data": {
            "text/plain": [
              "(99, 58)"
            ]
          },
          "metadata": {},
          "execution_count": 37
        }
      ]
    },
    {
      "cell_type": "code",
      "source": [
        "# Base de dados sem features com multicolinearidade muito alta & Normalizada\n",
        "X_MMA_test_transformed = Preprocessor_MMA.transform(X_MMA_test)\n",
        "X_MMA_test_transformed = pd.DataFrame(X_MMA_test_transformed, columns = columns_X_MMA)\n",
        "X_MMA_test_transformed.shape"
      ],
      "metadata": {
        "colab": {
          "base_uri": "https://localhost:8080/"
        },
        "outputId": "f94d5556-23d1-4b0f-f3a2-a95264f3fa39",
        "id": "UeBfrdODIwPW"
      },
      "execution_count": 38,
      "outputs": [
        {
          "output_type": "execute_result",
          "data": {
            "text/plain": [
              "(99, 54)"
            ]
          },
          "metadata": {},
          "execution_count": 38
        }
      ]
    },
    {
      "cell_type": "code",
      "source": [
        "# Base de dados sem features com multicolinearidade alta & Normalizada\n",
        "X_MA_test_transformed = Preprocessor_MA.transform(X_MA_test)\n",
        "X_MA_test_transformed = pd.DataFrame(X_MA_test_transformed, columns = columns_X_MA)\n",
        "X_MA_test_transformed.shape"
      ],
      "metadata": {
        "colab": {
          "base_uri": "https://localhost:8080/"
        },
        "outputId": "3e22b35b-c152-47a4-9ed0-ad9b5b14efcc",
        "id": "QOQwg4k4IwPV"
      },
      "execution_count": 39,
      "outputs": [
        {
          "output_type": "execute_result",
          "data": {
            "text/plain": [
              "(99, 50)"
            ]
          },
          "metadata": {},
          "execution_count": 39
        }
      ]
    },
    {
      "cell_type": "code",
      "source": [
        "# Base de dados completa & Não Normalizada\n",
        "X_NN_test_transformed = Preprocessor_NN.transform(X_NN_test)\n",
        "X_NN_test_transformed = pd.DataFrame(X_NN_test_transformed, columns = OneHotColumns)\n",
        "  ## Concatenando features numéricas sem normalização com categóricas tratadas\n",
        "X_NN_test_transformed = pd.concat([X_NN_test[features_num].reset_index(drop=True), X_NN_test_transformed], axis = 1)\n",
        "X_NN_test_transformed.shape"
      ],
      "metadata": {
        "colab": {
          "base_uri": "https://localhost:8080/"
        },
        "id": "0W6UGDxfcv4-",
        "outputId": "77cc76bb-00d9-49f9-d6c4-d990903440fe"
      },
      "execution_count": 40,
      "outputs": [
        {
          "output_type": "execute_result",
          "data": {
            "text/plain": [
              "(99, 58)"
            ]
          },
          "metadata": {},
          "execution_count": 40
        }
      ]
    },
    {
      "cell_type": "code",
      "source": [
        "# Base de dados sem features com multicolinearidade muito alta & Não Normalizada\n",
        "X_MMA_NN_test_transformed = Preprocessor_MMA_NN.transform(X_MMA_NN_test)\n",
        "X_MMA_NN_test_transformed = pd.DataFrame(X_MMA_NN_test_transformed, columns = OneHotColumns)\n",
        "  ## Concatenando features numéricas sem normalização com categóricas tratadas\n",
        "X_MMA_NN_test_transformed = pd.concat([X_MMA_NN_test[features_num_MMA].reset_index(drop=True), X_MMA_NN_test_transformed], axis = 1)\n",
        "X_MMA_NN_test_transformed.shape"
      ],
      "metadata": {
        "colab": {
          "base_uri": "https://localhost:8080/"
        },
        "id": "X8Xula0rdIHx",
        "outputId": "0a6acf80-c28c-4b88-db0d-437b083f8ea6"
      },
      "execution_count": 41,
      "outputs": [
        {
          "output_type": "execute_result",
          "data": {
            "text/plain": [
              "(99, 54)"
            ]
          },
          "metadata": {},
          "execution_count": 41
        }
      ]
    },
    {
      "cell_type": "code",
      "source": [
        "# Base de dados sem features com multicolinearidade alta & Não Normalizada\n",
        "X_MA_NN_test_transformed = Preprocessor_MA_NN.transform(X_MA_NN_test)\n",
        "X_MA_NN_test_transformed = pd.DataFrame(X_MA_NN_test_transformed, columns = OneHotColumns)\n",
        "  ## Concatenando features numéricas sem normalização com categóricas tratadas\n",
        "X_MA_NN_test_transformed = pd.concat([X_MA_NN_test[features_num_MA].reset_index(drop=True), X_MA_NN_test_transformed], axis = 1)\n",
        "X_MA_NN_test_transformed.shape"
      ],
      "metadata": {
        "colab": {
          "base_uri": "https://localhost:8080/"
        },
        "id": "LUkcOqaqc3Jp",
        "outputId": "eb626394-23f1-4a34-d9b6-ad356e18d6f2"
      },
      "execution_count": 42,
      "outputs": [
        {
          "output_type": "execute_result",
          "data": {
            "text/plain": [
              "(99, 50)"
            ]
          },
          "metadata": {},
          "execution_count": 42
        }
      ]
    },
    {
      "cell_type": "markdown",
      "source": [
        "### Tratando Dummy Variable Trap pt2"
      ],
      "metadata": {
        "id": "Nh1Eaz5wc0iA"
      }
    },
    {
      "cell_type": "code",
      "source": [
        "X_test_transformed        = drop_columns(X_test_transformed, OneHotColumns_exclude)\n",
        "X_MA_test_transformed     = drop_columns(X_MA_test_transformed, OneHotColumns_exclude)\n",
        "X_MMA_test_transformed    = drop_columns(X_MMA_test_transformed, OneHotColumns_exclude)\n",
        "X_NN_test_transformed     = drop_columns(X_NN_test_transformed, OneHotColumns_exclude)\n",
        "X_MA_NN_test_transformed  = drop_columns(X_MA_NN_test_transformed, OneHotColumns_exclude)\n",
        "X_MMA_NN_test_transformed = drop_columns(X_MMA_NN_test_transformed, OneHotColumns_exclude)"
      ],
      "metadata": {
        "id": "hTkZOifnc98m"
      },
      "execution_count": 43,
      "outputs": []
    },
    {
      "cell_type": "markdown",
      "source": [
        "### Transformando target"
      ],
      "metadata": {
        "id": "CTgWHMQtLqfR"
      }
    },
    {
      "cell_type": "code",
      "source": [
        "y_test_transformed = y_scaler.transform(y_test.array.reshape(-1, 1))\n",
        "y_test_transformed[0:5]"
      ],
      "metadata": {
        "colab": {
          "base_uri": "https://localhost:8080/"
        },
        "id": "gEsjgk9ALrtd",
        "outputId": "28effc4c-6acb-4eda-e48a-f3a47143f346"
      },
      "execution_count": 44,
      "outputs": [
        {
          "output_type": "execute_result",
          "data": {
            "text/plain": [
              "array([[0.  ],\n",
              "       [0.35],\n",
              "       [0.45],\n",
              "       [0.3 ],\n",
              "       [0.6 ]])"
            ]
          },
          "metadata": {},
          "execution_count": 44
        }
      ]
    },
    {
      "cell_type": "markdown",
      "source": [
        "## Salvando as variáveis"
      ],
      "metadata": {
        "id": "V-POLZtYJaHi"
      }
    },
    {
      "cell_type": "code",
      "source": [
        "data_list = [X_train_transformed, X_MA_train_transformed, X_MMA_train_transformed,\n",
        "             X_test_transformed , X_MA_test_transformed , X_MMA_test_transformed ,\n",
        "             X_NN_train_transformed, X_MA_NN_train_transformed, X_MMA_NN_train_transformed,\n",
        "             X_NN_test_transformed , X_MA_NN_test_transformed , X_MMA_NN_test_transformed,\n",
        "             y_train_transformed, y_test_transformed]"
      ],
      "metadata": {
        "id": "J3MXsEuQJveL"
      },
      "execution_count": 45,
      "outputs": []
    },
    {
      "cell_type": "code",
      "source": [
        "transformers_list = [Preprocessor, Preprocessor_MA, Preprocessor_MMA,\n",
        "                     Preprocessor_NN, Preprocessor_MA_NN, Preprocessor_MMA_NN,\n",
        "                     y_scaler]"
      ],
      "metadata": {
        "id": "xxNMezqnMDuX"
      },
      "execution_count": 46,
      "outputs": []
    },
    {
      "cell_type": "code",
      "source": [
        "with open(path_datasets+'students_data.pkl', 'wb') as f:\n",
        "  pkl.dump(data_list, f)\n",
        "print('OK')"
      ],
      "metadata": {
        "id": "2G6bZpUfJcvP",
        "colab": {
          "base_uri": "https://localhost:8080/"
        },
        "outputId": "261b31af-af04-46c8-923a-71cf44eaeae1"
      },
      "execution_count": 47,
      "outputs": [
        {
          "output_type": "stream",
          "name": "stdout",
          "text": [
            "OK\n"
          ]
        }
      ]
    },
    {
      "cell_type": "code",
      "source": [
        "with open(path_datasets+'students_preprocessor.pkl', 'wb') as f:\n",
        "  pkl.dump(transformers_list, f)\n",
        "print('OK')"
      ],
      "metadata": {
        "id": "mofoeFC1MRHf",
        "colab": {
          "base_uri": "https://localhost:8080/"
        },
        "outputId": "6e733b51-b1f5-4ee7-f29d-4142393776b1"
      },
      "execution_count": 48,
      "outputs": [
        {
          "output_type": "stream",
          "name": "stdout",
          "text": [
            "OK\n"
          ]
        }
      ]
    }
  ]
}